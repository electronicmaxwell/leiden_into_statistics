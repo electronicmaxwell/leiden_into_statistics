{
 "cells": [
  {
   "cell_type": "code",
   "execution_count": 1,
   "metadata": {},
   "outputs": [],
   "source": [
    "import pandas as pd\n",
    "import numpy as np"
   ]
  },
  {
   "cell_type": "code",
   "execution_count": 8,
   "metadata": {},
   "outputs": [
    {
     "data": {
      "text/html": [
       "<div>\n",
       "<style scoped>\n",
       "    .dataframe tbody tr th:only-of-type {\n",
       "        vertical-align: middle;\n",
       "    }\n",
       "\n",
       "    .dataframe tbody tr th {\n",
       "        vertical-align: top;\n",
       "    }\n",
       "\n",
       "    .dataframe thead th {\n",
       "        text-align: right;\n",
       "    }\n",
       "</style>\n",
       "<table border=\"1\" class=\"dataframe\">\n",
       "  <thead>\n",
       "    <tr style=\"text-align: right;\">\n",
       "      <th></th>\n",
       "      <th>ID</th>\n",
       "      <th>Age</th>\n",
       "      <th>Region</th>\n",
       "      <th>Income</th>\n",
       "      <th>Spending</th>\n",
       "      <th>Town</th>\n",
       "    </tr>\n",
       "  </thead>\n",
       "  <tbody>\n",
       "    <tr>\n",
       "      <th>0</th>\n",
       "      <td>1</td>\n",
       "      <td>80</td>\n",
       "      <td>Rural</td>\n",
       "      <td>41234</td>\n",
       "      <td>176</td>\n",
       "      <td>Forest Hollow</td>\n",
       "    </tr>\n",
       "    <tr>\n",
       "      <th>1</th>\n",
       "      <td>2</td>\n",
       "      <td>63</td>\n",
       "      <td>Urban</td>\n",
       "      <td>92689</td>\n",
       "      <td>4847</td>\n",
       "      <td>Stonebridge</td>\n",
       "    </tr>\n",
       "    <tr>\n",
       "      <th>2</th>\n",
       "      <td>3</td>\n",
       "      <td>80</td>\n",
       "      <td>Rural</td>\n",
       "      <td>42564</td>\n",
       "      <td>793</td>\n",
       "      <td>Cedar Valley</td>\n",
       "    </tr>\n",
       "    <tr>\n",
       "      <th>3</th>\n",
       "      <td>4</td>\n",
       "      <td>20</td>\n",
       "      <td>Rural</td>\n",
       "      <td>33606</td>\n",
       "      <td>464</td>\n",
       "      <td>Cedar Valley</td>\n",
       "    </tr>\n",
       "    <tr>\n",
       "      <th>4</th>\n",
       "      <td>5</td>\n",
       "      <td>46</td>\n",
       "      <td>Rural</td>\n",
       "      <td>22115</td>\n",
       "      <td>58</td>\n",
       "      <td>Cedar Valley</td>\n",
       "    </tr>\n",
       "  </tbody>\n",
       "</table>\n",
       "</div>"
      ],
      "text/plain": [
       "   ID  Age Region  Income  Spending           Town\n",
       "0   1   80  Rural   41234       176  Forest Hollow\n",
       "1   2   63  Urban   92689      4847    Stonebridge\n",
       "2   3   80  Rural   42564       793   Cedar Valley\n",
       "3   4   20  Rural   33606       464   Cedar Valley\n",
       "4   5   46  Rural   22115        58   Cedar Valley"
      ]
     },
     "execution_count": 8,
     "metadata": {},
     "output_type": "execute_result"
    }
   ],
   "source": [
    "population = pd.read_csv('./data/income_data.csv')\n",
    "population.head()"
   ]
  },
  {
   "cell_type": "code",
   "execution_count": 15,
   "metadata": {},
   "outputs": [],
   "source": [
    "pop_mean = int(population['Income'].mean())"
   ]
  },
  {
   "cell_type": "code",
   "execution_count": 12,
   "metadata": {},
   "outputs": [],
   "source": [
    "stratified = pd.read_csv('./data/income_stratified_sample.csv')\n",
    "simple = pd.read_csv('./data/income_simple_random_sample.csv')\n",
    "cluster = pd.read_csv('./data/income_cluster_sample.csv')\n",
    "systematic = pd.read_csv('./data/income_systematic_sample.csv')"
   ]
  },
  {
   "cell_type": "code",
   "execution_count": 17,
   "metadata": {},
   "outputs": [
    {
     "data": {
      "text/html": [
       "<div>\n",
       "<style scoped>\n",
       "    .dataframe tbody tr th:only-of-type {\n",
       "        vertical-align: middle;\n",
       "    }\n",
       "\n",
       "    .dataframe tbody tr th {\n",
       "        vertical-align: top;\n",
       "    }\n",
       "\n",
       "    .dataframe thead th {\n",
       "        text-align: right;\n",
       "    }\n",
       "</style>\n",
       "<table border=\"1\" class=\"dataframe\">\n",
       "  <thead>\n",
       "    <tr style=\"text-align: right;\">\n",
       "      <th></th>\n",
       "      <th>type</th>\n",
       "      <th>mean</th>\n",
       "      <th>differenceToPopulation</th>\n",
       "    </tr>\n",
       "  </thead>\n",
       "  <tbody>\n",
       "    <tr>\n",
       "      <th>0</th>\n",
       "      <td>stratified</td>\n",
       "      <td>56268</td>\n",
       "      <td>-10521</td>\n",
       "    </tr>\n",
       "    <tr>\n",
       "      <th>1</th>\n",
       "      <td>simple</td>\n",
       "      <td>59934</td>\n",
       "      <td>-6855</td>\n",
       "    </tr>\n",
       "    <tr>\n",
       "      <th>2</th>\n",
       "      <td>cluster</td>\n",
       "      <td>99235</td>\n",
       "      <td>32446</td>\n",
       "    </tr>\n",
       "    <tr>\n",
       "      <th>3</th>\n",
       "      <td>systematic</td>\n",
       "      <td>63510</td>\n",
       "      <td>-3279</td>\n",
       "    </tr>\n",
       "  </tbody>\n",
       "</table>\n",
       "</div>"
      ],
      "text/plain": [
       "         type   mean  differenceToPopulation\n",
       "0  stratified  56268                  -10521\n",
       "1      simple  59934                   -6855\n",
       "2     cluster  99235                   32446\n",
       "3  systematic  63510                   -3279"
      ]
     },
     "execution_count": 17,
     "metadata": {},
     "output_type": "execute_result"
    }
   ],
   "source": [
    "df_map = {\n",
    "    'stratified': stratified,\n",
    "    'simple': simple,\n",
    "    'cluster': cluster,\n",
    "    'systematic': systematic\n",
    "}\n",
    "\n",
    "rows = []\n",
    "\n",
    "for key, df in df_map.items():\n",
    "    cur_mean = int(df['Income'].mean())\n",
    "    rows.append({'type': key, 'mean': cur_mean, 'differenceToPopulation': cur_mean - pop_mean})\n",
    "\n",
    "sample_means = pd.DataFrame(rows)\n",
    "\n",
    "sample_means"
   ]
  },
  {
   "cell_type": "code",
   "execution_count": 18,
   "metadata": {},
   "outputs": [
    {
     "data": {
      "text/plain": [
       "Town\n",
       "Sunset City    72\n",
       "Grassville     66\n",
       "Hilltop        64\n",
       "Name: count, dtype: int64"
      ]
     },
     "execution_count": 18,
     "metadata": {},
     "output_type": "execute_result"
    }
   ],
   "source": [
    "cluster['Town'].value_counts()"
   ]
  },
  {
   "cell_type": "code",
   "execution_count": 24,
   "metadata": {},
   "outputs": [
    {
     "data": {
      "text/html": [
       "<div>\n",
       "<style scoped>\n",
       "    .dataframe tbody tr th:only-of-type {\n",
       "        vertical-align: middle;\n",
       "    }\n",
       "\n",
       "    .dataframe tbody tr th {\n",
       "        vertical-align: top;\n",
       "    }\n",
       "\n",
       "    .dataframe thead th {\n",
       "        text-align: right;\n",
       "    }\n",
       "</style>\n",
       "<table border=\"1\" class=\"dataframe\">\n",
       "  <thead>\n",
       "    <tr style=\"text-align: right;\">\n",
       "      <th></th>\n",
       "      <th>count</th>\n",
       "      <th>mean</th>\n",
       "    </tr>\n",
       "    <tr>\n",
       "      <th>Town</th>\n",
       "      <th></th>\n",
       "      <th></th>\n",
       "    </tr>\n",
       "  </thead>\n",
       "  <tbody>\n",
       "    <tr>\n",
       "      <th>Grassville</th>\n",
       "      <td>66</td>\n",
       "      <td>150476.454545</td>\n",
       "    </tr>\n",
       "    <tr>\n",
       "      <th>Brookfield</th>\n",
       "      <td>77</td>\n",
       "      <td>76650.064935</td>\n",
       "    </tr>\n",
       "    <tr>\n",
       "      <th>Brighton</th>\n",
       "      <td>74</td>\n",
       "      <td>76563.432432</td>\n",
       "    </tr>\n",
       "    <tr>\n",
       "      <th>Maple Heights</th>\n",
       "      <td>82</td>\n",
       "      <td>75915.487805</td>\n",
       "    </tr>\n",
       "    <tr>\n",
       "      <th>Silverlake</th>\n",
       "      <td>71</td>\n",
       "      <td>75896.239437</td>\n",
       "    </tr>\n",
       "    <tr>\n",
       "      <th>Sunset City</th>\n",
       "      <td>72</td>\n",
       "      <td>75196.638889</td>\n",
       "    </tr>\n",
       "    <tr>\n",
       "      <th>Stonebridge</th>\n",
       "      <td>65</td>\n",
       "      <td>74778.323077</td>\n",
       "    </tr>\n",
       "    <tr>\n",
       "      <th>Hilltop</th>\n",
       "      <td>64</td>\n",
       "      <td>73436.906250</td>\n",
       "    </tr>\n",
       "    <tr>\n",
       "      <th>Riverfall</th>\n",
       "      <td>60</td>\n",
       "      <td>72918.733333</td>\n",
       "    </tr>\n",
       "    <tr>\n",
       "      <th>Lakeside</th>\n",
       "      <td>59</td>\n",
       "      <td>71827.576271</td>\n",
       "    </tr>\n",
       "    <tr>\n",
       "      <th>Forest Hollow</th>\n",
       "      <td>63</td>\n",
       "      <td>33800.380952</td>\n",
       "    </tr>\n",
       "    <tr>\n",
       "      <th>Meadowtown</th>\n",
       "      <td>45</td>\n",
       "      <td>32779.088889</td>\n",
       "    </tr>\n",
       "    <tr>\n",
       "      <th>Pineville</th>\n",
       "      <td>74</td>\n",
       "      <td>32671.864865</td>\n",
       "    </tr>\n",
       "    <tr>\n",
       "      <th>Willowbrook</th>\n",
       "      <td>61</td>\n",
       "      <td>32144.278689</td>\n",
       "    </tr>\n",
       "    <tr>\n",
       "      <th>Cedar Valley</th>\n",
       "      <td>67</td>\n",
       "      <td>31434.656716</td>\n",
       "    </tr>\n",
       "  </tbody>\n",
       "</table>\n",
       "</div>"
      ],
      "text/plain": [
       "               count           mean\n",
       "Town                               \n",
       "Grassville        66  150476.454545\n",
       "Brookfield        77   76650.064935\n",
       "Brighton          74   76563.432432\n",
       "Maple Heights     82   75915.487805\n",
       "Silverlake        71   75896.239437\n",
       "Sunset City       72   75196.638889\n",
       "Stonebridge       65   74778.323077\n",
       "Hilltop           64   73436.906250\n",
       "Riverfall         60   72918.733333\n",
       "Lakeside          59   71827.576271\n",
       "Forest Hollow     63   33800.380952\n",
       "Meadowtown        45   32779.088889\n",
       "Pineville         74   32671.864865\n",
       "Willowbrook       61   32144.278689\n",
       "Cedar Valley      67   31434.656716"
      ]
     },
     "execution_count": 24,
     "metadata": {},
     "output_type": "execute_result"
    }
   ],
   "source": [
    "population.groupby('Town')['Income'].agg(['count', 'mean']).sort_values(by='mean', ascending=False)"
   ]
  },
  {
   "cell_type": "code",
   "execution_count": 25,
   "metadata": {},
   "outputs": [
    {
     "data": {
      "text/plain": [
       "(np.float64(2255.68), np.float64(2912.968))"
      ]
     },
     "execution_count": 25,
     "metadata": {},
     "output_type": "execute_result"
    }
   ],
   "source": [
    "stratified['Spending'].mean(), population['Spending'].mean()"
   ]
  },
  {
   "cell_type": "code",
   "execution_count": null,
   "metadata": {},
   "outputs": [],
   "source": []
  }
 ],
 "metadata": {
  "kernelspec": {
   "display_name": ".venv",
   "language": "python",
   "name": "python3"
  },
  "language_info": {
   "codemirror_mode": {
    "name": "ipython",
    "version": 3
   },
   "file_extension": ".py",
   "mimetype": "text/x-python",
   "name": "python",
   "nbconvert_exporter": "python",
   "pygments_lexer": "ipython3",
   "version": "3.12.5"
  }
 },
 "nbformat": 4,
 "nbformat_minor": 2
}
